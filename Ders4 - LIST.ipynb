{
 "cells": [
  {
   "cell_type": "code",
   "execution_count": 4,
   "id": "ed967bff-9f44-4c63-a860-aacc27976d94",
   "metadata": {},
   "outputs": [
    {
     "data": {
      "text/plain": [
       "['Michael Jackson', 10.1, 1982]"
      ]
     },
     "execution_count": 4,
     "metadata": {},
     "output_type": "execute_result"
    }
   ],
   "source": [
    "# Create a list\n",
    "L = [\"Michael Jackson\", 10.1, 1982]\n",
    "L"
   ]
  },
  {
   "cell_type": "code",
   "execution_count": 7,
   "id": "146b674a-0dec-4584-90ff-248cbb23da6a",
   "metadata": {},
   "outputs": [
    {
     "name": "stdout",
     "output_type": "stream",
     "text": [
      "the same element using negative and positive indexing:\n",
      " Postive: Michael Jackson \n",
      " Negative: Michael Jackson\n",
      "the same element using negative and positive indexing:\n",
      " Postive: 10.1 \n",
      " Negative: 10.1\n",
      "the same element using negative and positive indexing:\n",
      " Postive: 1982 \n",
      " Negative: 1982\n"
     ]
    }
   ],
   "source": [
    "print('the same element using negative and positive indexing:\\n Postive:',L[0],\n",
    "'\\n Negative:' , L[-3]  )\n",
    "print('the same element using negative and positive indexing:\\n Postive:',L[1],\n",
    "'\\n Negative:' , L[-2]  )\n",
    "print('the same element using negative and positive indexing:\\n Postive:',L[2],\n",
    "'\\n Negative:' , L[-1]  )"
   ]
  },
  {
   "cell_type": "code",
   "execution_count": 8,
   "id": "2c2bea72-a053-4bc2-b6d0-7f8cf3619478",
   "metadata": {},
   "outputs": [
    {
     "data": {
      "text/plain": [
       "['Michael Jackson', 10.1, 1982, [1, 2], ('A', 1)]"
      ]
     },
     "execution_count": 8,
     "metadata": {},
     "output_type": "execute_result"
    }
   ],
   "source": [
    "[\"Michael Jackson\", 10.1, 1982, [1, 2], (\"A\", 1)]"
   ]
  },
  {
   "cell_type": "code",
   "execution_count": 9,
   "id": "d82fd48c-c274-4952-b628-f7728e45a5b3",
   "metadata": {},
   "outputs": [
    {
     "data": {
      "text/plain": [
       "['Michael Jackson', 10.1, 1982, 'MJ', 1]"
      ]
     },
     "execution_count": 9,
     "metadata": {},
     "output_type": "execute_result"
    }
   ],
   "source": [
    "L = [\"Michael Jackson\", 10.1,1982,\"MJ\",1]\n",
    "L"
   ]
  },
  {
   "cell_type": "code",
   "execution_count": 12,
   "id": "f9db0ec4-e218-49be-a8c7-94dbe47a4086",
   "metadata": {},
   "outputs": [
    {
     "data": {
      "text/plain": [
       "['MJ', 1]"
      ]
     },
     "execution_count": 12,
     "metadata": {},
     "output_type": "execute_result"
    }
   ],
   "source": [
    "L[3:5]"
   ]
  },
  {
   "cell_type": "code",
   "execution_count": 13,
   "id": "e0c10a4a-3535-472b-ab7a-eb0905134d9e",
   "metadata": {},
   "outputs": [
    {
     "data": {
      "text/plain": [
       "['Michael Jackson', 10.2, 'pop', 10]"
      ]
     },
     "execution_count": 13,
     "metadata": {},
     "output_type": "execute_result"
    }
   ],
   "source": [
    "# Use extend to add elements to list\n",
    "L = [ \"Michael Jackson\", 10.2]\n",
    "L.extend(['pop', 10])\n",
    "L"
   ]
  },
  {
   "cell_type": "code",
   "execution_count": 14,
   "id": "39811f67-5348-4e56-9170-218bb8d119e5",
   "metadata": {},
   "outputs": [
    {
     "data": {
      "text/plain": [
       "['Michael Jackson', 10.2, ['pop', 10]]"
      ]
     },
     "execution_count": 14,
     "metadata": {},
     "output_type": "execute_result"
    }
   ],
   "source": [
    "#extend ayrı olarak eklerken append bir bütün olarak ekler\n",
    "L = [ \"Michael Jackson\", 10.2]\n",
    "L.append(['pop', 10])\n",
    "L"
   ]
  },
  {
   "cell_type": "code",
   "execution_count": 15,
   "id": "1cd2c3df-7626-45af-84d7-81f63806d96e",
   "metadata": {},
   "outputs": [
    {
     "name": "stdout",
     "output_type": "stream",
     "text": [
      "Before change: ['disco', 10, 1.2]\n",
      "After change: ['hard rock', 10, 1.2]\n"
     ]
    }
   ],
   "source": [
    "# Change the element based on the index\n",
    "\n",
    "A = [\"disco\", 10, 1.2]\n",
    "print('Before change:', A)\n",
    "A[0] = 'hard rock'\n",
    "print('After change:', A)"
   ]
  },
  {
   "cell_type": "code",
   "execution_count": 16,
   "id": "2819fd22-3d52-44f8-b766-fa6aa193f3cc",
   "metadata": {},
   "outputs": [
    {
     "name": "stdout",
     "output_type": "stream",
     "text": [
      "Before change: ['hard rock', 10, 1.2]\n",
      "After change: [10, 1.2]\n"
     ]
    }
   ],
   "source": [
    "# Delete the element based on the index\n",
    "\n",
    "print('Before change:', A)\n",
    "del(A[0])\n",
    "print('After change:', A)"
   ]
  },
  {
   "cell_type": "code",
   "execution_count": 17,
   "id": "f3acd256-ea61-4b26-8a5b-5d88f2e4ab27",
   "metadata": {},
   "outputs": [
    {
     "data": {
      "text/plain": [
       "['hard', 'rock']"
      ]
     },
     "execution_count": 17,
     "metadata": {},
     "output_type": "execute_result"
    }
   ],
   "source": [
    "# Split the string, default is by space\n",
    "\n",
    "'hard rock'.split()"
   ]
  },
  {
   "cell_type": "code",
   "execution_count": 18,
   "id": "fd1cc1ed-8847-4e0d-a7ea-ab805e7c5227",
   "metadata": {},
   "outputs": [
    {
     "data": {
      "text/plain": [
       "['A', 'B', 'C', 'D']"
      ]
     },
     "execution_count": 18,
     "metadata": {},
     "output_type": "execute_result"
    }
   ],
   "source": [
    "# Split the string by comma\n",
    "\n",
    "'A,B,C,D'.split(',')"
   ]
  },
  {
   "cell_type": "code",
   "execution_count": 19,
   "id": "790e9120-77f6-40e6-ba1a-5e63a6b8f91e",
   "metadata": {},
   "outputs": [
    {
     "name": "stdout",
     "output_type": "stream",
     "text": [
      "A: ['hard rock', 10, 1.2]\n",
      "B: ['hard rock', 10, 1.2]\n"
     ]
    }
   ],
   "source": [
    "# Copy (copy by reference) the list A\n",
    "\n",
    "A = [\"hard rock\", 10, 1.2]\n",
    "B = A\n",
    "print('A:', A)\n",
    "print('B:', B)"
   ]
  },
  {
   "cell_type": "code",
   "execution_count": 20,
   "id": "a2266636-1582-47c0-98a4-bf2fd6f7329b",
   "metadata": {},
   "outputs": [
    {
     "name": "stdout",
     "output_type": "stream",
     "text": [
      "B[0]: hard rock\n",
      "B[0]: banana\n"
     ]
    }
   ],
   "source": [
    "# Examine the copy by reference\n",
    "\n",
    "print('B[0]:', B[0])\n",
    "A[0] = \"banana\"\n",
    "print('B[0]:', B[0])"
   ]
  },
  {
   "cell_type": "code",
   "execution_count": 21,
   "id": "47dc7d5f-6f26-4e5a-86f8-bbe2b4099564",
   "metadata": {},
   "outputs": [
    {
     "data": {
      "text/plain": [
       "['banana', 10, 1.2]"
      ]
     },
     "execution_count": 21,
     "metadata": {},
     "output_type": "execute_result"
    }
   ],
   "source": [
    "# Clone (clone by value) the list A\n",
    "\n",
    "B = A[:]\n",
    "B"
   ]
  },
  {
   "cell_type": "code",
   "execution_count": 22,
   "id": "4d32a248-81e4-4c6c-ab2f-36237ce3e4c3",
   "metadata": {},
   "outputs": [
    {
     "name": "stdout",
     "output_type": "stream",
     "text": [
      "B[0]: banana\n",
      "B[0]: banana\n"
     ]
    }
   ],
   "source": [
    "print('B[0]:', B[0])\n",
    "A[0] = \"hard rock\"\n",
    "print('B[0]:', B[0])"
   ]
  },
  {
   "cell_type": "code",
   "execution_count": null,
   "id": "4e2a975a-a2ce-498b-b8c0-c8c7acfe53de",
   "metadata": {},
   "outputs": [],
   "source": []
  }
 ],
 "metadata": {
  "kernelspec": {
   "display_name": "Python",
   "language": "python",
   "name": "conda-env-python-py"
  },
  "language_info": {
   "codemirror_mode": {
    "name": "ipython",
    "version": 3
   },
   "file_extension": ".py",
   "mimetype": "text/x-python",
   "name": "python",
   "nbconvert_exporter": "python",
   "pygments_lexer": "ipython3",
   "version": "3.6.13"
  }
 },
 "nbformat": 4,
 "nbformat_minor": 5
}
